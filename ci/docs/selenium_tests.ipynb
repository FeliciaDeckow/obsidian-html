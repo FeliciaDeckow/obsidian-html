{
 "cells": [
  {
   "cell_type": "markdown",
   "id": "612e951b",
   "metadata": {},
   "source": [
    "# Selenium test setup\n",
    "This notebook goes through the selenium test setup.\n",
    "\n",
    "With selenium, we can open up an entire browser, and have full javascript capabilities (something that we miss with the BeautifulSoup tests). We can click on links, press keys, etc.\n",
    "\n",
    "> As with all jupyter notebooks, make sure that you run the cells in order!"
   ]
  },
  {
   "cell_type": "markdown",
   "id": "07ffd092",
   "metadata": {},
   "source": [
    "# Setup\n",
    "\n",
    "First import all the required packages"
   ]
  },
  {
   "cell_type": "code",
   "execution_count": null,
   "id": "baed9544",
   "metadata": {},
   "outputs": [],
   "source": [
    "from selenium import webdriver\n",
    "from selenium.webdriver.common.keys import Keys\n",
    "from selenium.webdriver.firefox.firefox_binary import FirefoxBinary\n",
    "from selenium.webdriver.common.by import By\n",
    "from selenium.webdriver.support.ui import WebDriverWait\n",
    "from selenium.webdriver.support import expected_conditions as EC\n",
    "from selenium.webdriver.firefox.options import Options\n",
    "\n",
    "from pathlib import Path\n",
    "import yaml\n",
    "\n",
    "import time\n",
    "import os\n",
    "import sys\n",
    "import subprocess"
   ]
  },
  {
   "cell_type": "markdown",
   "id": "f276ecaa",
   "metadata": {},
   "source": [
    "Set an extra path, so we can import our module"
   ]
  },
  {
   "cell_type": "code",
   "execution_count": null,
   "id": "869da701",
   "metadata": {},
   "outputs": [],
   "source": [
    "p = str(Path(globals()['_dh'][0]).parent)\n",
    "print(p)\n",
    "sys.path.insert(1, p)\n",
    "\n",
    "# import our module\n",
    "from tests.lib import *\n",
    " \n"
   ]
  },
  {
   "cell_type": "markdown",
   "id": "4f5ba890",
   "metadata": {},
   "source": [
    "From the test.lib module, we call the get_paths function to get all the relevant paths. \n",
    "\n",
    "> You can edit the settings in `obsidian-html/ci/tests/lib.py`, but the paths should all be relative to the git folder, so there is no need to edit them now.\n"
   ]
  },
  {
   "cell_type": "code",
   "execution_count": null,
   "id": "653a97dd",
   "metadata": {},
   "outputs": [],
   "source": [
    "paths = get_paths()\n",
    "\n",
    "print('\\n'.join([f'{p[0]}\\n{p[1].as_posix()}\\n' for p in paths.items()]))"
   ]
  },
  {
   "cell_type": "markdown",
   "id": "ae04c85c",
   "metadata": {},
   "source": [
    "# Compile our website\n",
    "\n",
    "compile our vault to markdown and html"
   ]
  },
  {
   "cell_type": "code",
   "execution_count": null,
   "id": "e2933f1b",
   "metadata": {
    "scrolled": true
   },
   "outputs": [],
   "source": [
    "# Create temp dir\n",
    "os.chdir(paths['root'])\n",
    "paths['temp_dir'].mkdir(exist_ok=True)\n",
    "\n",
    "# Compile output\n",
    "customize_default_config([])\n",
    "convert_vault()"
   ]
  },
  {
   "cell_type": "markdown",
   "id": "6f9121ce",
   "metadata": {},
   "source": [
    "We can run this compilation again with different settings, by overriding the default. Take this example:"
   ]
  },
  {
   "cell_type": "code",
   "execution_count": null,
   "id": "0fbb80f8",
   "metadata": {},
   "outputs": [],
   "source": [
    "# clean temp dir\n",
    "cleanup_temp_dir()\n",
    "\n",
    "# custom settings\n",
    "customize_default_config([\n",
    "    ('toggles/features/create_index_from_tags/enabled', True),\n",
    "    ('toggles/features/create_index_from_tags/tags', ['type/index1', 'type/index2'])\n",
    "])\n",
    "convert_vault()"
   ]
  },
  {
   "cell_type": "markdown",
   "id": "63844a16",
   "metadata": {},
   "source": [
    "# Start webserver\n",
    "Run the webserver at port 8080 in the current directory"
   ]
  },
  {
   "cell_type": "code",
   "execution_count": null,
   "id": "acfad8d0",
   "metadata": {},
   "outputs": [],
   "source": [
    "webserver_process = subprocess.Popen(\n",
    "    [\n",
    "        'python', \n",
    "        '-m', \n",
    "        'http.server', \n",
    "        '--directory', \n",
    "        paths['html_output_folder'], \n",
    "        '8080'\n",
    "    ], \n",
    "    stdout=subprocess.DEVNULL, \n",
    "    stderr=subprocess.DEVNULL\n",
    ")"
   ]
  },
  {
   "cell_type": "markdown",
   "id": "1a64e5c4",
   "metadata": {},
   "source": [
    "# Open selenium browser\n",
    "\n",
    "> Note that if you uncomment the line `options.headless = True`, the browser will not open a screen that we can see. This is useful for running this script in a container."
   ]
  },
  {
   "cell_type": "code",
   "execution_count": null,
   "id": "402578bd",
   "metadata": {},
   "outputs": [],
   "source": [
    "# add ci/src to path so that we can load the gecko driver\n",
    "os.environ[\"PATH\"] = paths['ci_src'].as_posix() + ':' + os.environ[\"PATH\"]\n",
    "\n",
    "# Configure options\n",
    "options = Options()\n",
    "#options.headless = True\n",
    "\n",
    "# Start selenium\n",
    "driver = webdriver.Firefox(options=options)"
   ]
  },
  {
   "cell_type": "code",
   "execution_count": null,
   "id": "3dc0cbce",
   "metadata": {},
   "outputs": [],
   "source": [
    "# Load page\n",
    "driver.get(\"http://localhost:8080/\")"
   ]
  },
  {
   "cell_type": "markdown",
   "id": "0ca6fd1c",
   "metadata": {},
   "source": [
    "# Run tests"
   ]
  },
  {
   "cell_type": "markdown",
   "id": "49219992",
   "metadata": {},
   "source": [
    "Get the first container, print the first h1, and get the first link in that container that isn't an anchor link, and click it."
   ]
  },
  {
   "cell_type": "code",
   "execution_count": null,
   "id": "e0be97fb",
   "metadata": {},
   "outputs": [],
   "source": [
    "level = 0"
   ]
  },
  {
   "cell_type": "code",
   "execution_count": null,
   "id": "58e08931",
   "metadata": {},
   "outputs": [],
   "source": [
    "# get container\n",
    "container = driver.find_element(by=By.ID, value=f'level-{level}')\n",
    "\n",
    "# print first h1\n",
    "try:\n",
    "    h1 = container.find_element(by=By.TAG_NAME, value='h1')\n",
    "    print(h1.text)\n",
    "except:\n",
    "    print(\"h1 not found\")\n",
    "\n",
    "# click first non-anchor/backlink link\n",
    "links = container.find_elements(by=By.TAG_NAME, value='a')\n",
    "for link in links:\n",
    "    if exclude_str(['anchor','backlink'], link.get_attribute('class')):\n",
    "        link.click()\n",
    "        \n",
    "        # target the new note next\n",
    "        level += 1\n",
    "        \n",
    "        # cancel execution (don't open all links on a note)\n",
    "        break\n",
    "        \n"
   ]
  },
  {
   "cell_type": "markdown",
   "id": "58fc4ea0",
   "metadata": {},
   "source": [
    "Now, because level has incremented to 1, the next time we run the block above, it will do the same for the new tab that has opened. Try it out!"
   ]
  },
  {
   "cell_type": "markdown",
   "id": "9c960a74",
   "metadata": {},
   "source": [
    "If you ran the compile step with the custom settings, try running the compile step without the custom settings, running `driver.get(\"http://localhost:8080/\")` again, and then rerunning the two blocks above."
   ]
  },
  {
   "cell_type": "markdown",
   "id": "709cd84e",
   "metadata": {},
   "source": [
    "# Close down"
   ]
  },
  {
   "cell_type": "markdown",
   "id": "14e75831",
   "metadata": {},
   "source": [
    "### Close down the webserver.\n",
    "\n",
    "`After running, refresh the selenium browser and notice that it can't connect to our website.`"
   ]
  },
  {
   "cell_type": "code",
   "execution_count": null,
   "id": "524a089e",
   "metadata": {},
   "outputs": [],
   "source": [
    "webserver_process.terminate()"
   ]
  },
  {
   "cell_type": "markdown",
   "id": "cec74b66",
   "metadata": {},
   "source": [
    "### Close the selenium browser"
   ]
  },
  {
   "cell_type": "code",
   "execution_count": null,
   "id": "d5ae3c4a",
   "metadata": {},
   "outputs": [],
   "source": [
    "driver.quit()"
   ]
  },
  {
   "cell_type": "markdown",
   "id": "b0ad0b54",
   "metadata": {},
   "source": [
    "### Remove tempdir"
   ]
  },
  {
   "cell_type": "code",
   "execution_count": null,
   "id": "d790344a",
   "metadata": {},
   "outputs": [],
   "source": [
    "cleanup_temp_dir()"
   ]
  }
 ],
 "metadata": {
  "kernelspec": {
   "display_name": "Python 3 (ipykernel)",
   "language": "python",
   "name": "python3"
  },
  "language_info": {
   "codemirror_mode": {
    "name": "ipython",
    "version": 3
   },
   "file_extension": ".py",
   "mimetype": "text/x-python",
   "name": "python",
   "nbconvert_exporter": "python",
   "pygments_lexer": "ipython3",
   "version": "3.10.2"
  }
 },
 "nbformat": 4,
 "nbformat_minor": 5
}
